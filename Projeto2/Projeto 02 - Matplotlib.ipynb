{
 "cells": [
  {
   "cell_type": "markdown",
   "id": "53c8e5c0",
   "metadata": {},
   "source": [
    "## Projeto Matplotlib - Categorização salarial dos campos da ciência de dados\n",
    "\n",
    "    Salários de diferentes campos da ciência de dados no domínio da ciência de dados\n",
    "    Dicionário de dados:\n",
    "\n",
    "  - Ano de Trabalho: O ano em que o salário foi pago ( 2020, 2021, 2022)\n",
    "  - Designação: O papel desempenhado durante o ano\n",
    "  - Experiência: O nível de experiência no trabalho durante o ano. \n",
    "     \n",
    "      [ PT - Nível de entrada / Júnior, MI - Nível médio /   Intermediário, SE - Nível sênior / Especialista, EX - Nível executivo / Diretor ]\n",
    "      \n",
    "  - Situação Laboral:\tO tipo de emprego para a função.\n",
    "     \n",
    "      [ PT - Part time, FT - Full time, CT - Contract, FL - Freelance ]\n",
    "      \n",
    "  - Salário em rúpias: O valor total do salário bruto pago.\n",
    "  - Localização do funcionário: O principal país de residência do empregado durante o ano de trabalho como um código de país ISO 3166. ( PFB Link para o código de país ISO 3166 )\n",
    "  - Localização da empresa: O país da sede ou sucursal contratante do empregador.\n",
    "  - Tamanho da empresa: O número médio de pessoas que trabalharam para a empresa durante o ano. \n",
    "      \n",
    "      [ S(pequeno) - Menos de 50 trabalhadores, M (médio) - 50 a 250 trabalhadores, L (grande) - Mais de 250 trabalhadores ]\n",
    "      \n",
    "  - Relação de trabalho remoto: A quantidade total de trabalho feito remotamente. \n",
    "      \n",
    "      [ 0 - Sem trabalho remoto (menos de 20%), 50 - Parcialmente remoto, 100 - totalmente remoto (mais de 80%) ]\n",
    "        \n",
    "        \n",
    "- https://matplotlib.org/stable/plot_types/basic/plot.html#sphx-glr-plot-types-basic-plot-py"
   ]
  },
  {
   "cell_type": "markdown",
   "id": "e9660eef",
   "metadata": {},
   "source": [
    "## Importar as bibliotecas necesssárias"
   ]
  },
  {
   "cell_type": "code",
   "execution_count": 2,
   "id": "85a7ef90",
   "metadata": {},
   "outputs": [],
   "source": [
    "#!pip install pandas\n",
    "import pandas as pd\n",
    "import matplotlib.pyplot as plt"
   ]
  },
  {
   "cell_type": "markdown",
   "id": "42327635",
   "metadata": {},
   "source": [
    " ## Importar a base de dados e visualizar as 10 primeiras linhas"
   ]
  },
  {
   "cell_type": "code",
   "execution_count": 3,
   "id": "23c9f3de",
   "metadata": {},
   "outputs": [
    {
     "data": {
      "text/html": [
       "<div>\n",
       "<style scoped>\n",
       "    .dataframe tbody tr th:only-of-type {\n",
       "        vertical-align: middle;\n",
       "    }\n",
       "\n",
       "    .dataframe tbody tr th {\n",
       "        vertical-align: top;\n",
       "    }\n",
       "\n",
       "    .dataframe thead th {\n",
       "        text-align: right;\n",
       "    }\n",
       "</style>\n",
       "<table border=\"1\" class=\"dataframe\">\n",
       "  <thead>\n",
       "    <tr style=\"text-align: right;\">\n",
       "      <th></th>\n",
       "      <th>Unnamed: 0</th>\n",
       "      <th>Working_Year</th>\n",
       "      <th>Designation</th>\n",
       "      <th>Experience</th>\n",
       "      <th>Employment_Status</th>\n",
       "      <th>Salary_In_Rupees</th>\n",
       "      <th>Employee_Location</th>\n",
       "      <th>Company_Location</th>\n",
       "      <th>Company_Size</th>\n",
       "      <th>Remote_Working_Ratio</th>\n",
       "    </tr>\n",
       "  </thead>\n",
       "  <tbody>\n",
       "    <tr>\n",
       "      <th>0</th>\n",
       "      <td>1</td>\n",
       "      <td>2020</td>\n",
       "      <td>Data Scientist</td>\n",
       "      <td>MI</td>\n",
       "      <td>FT</td>\n",
       "      <td>6,352,272.00</td>\n",
       "      <td>DE</td>\n",
       "      <td>DE</td>\n",
       "      <td>L</td>\n",
       "      <td>0</td>\n",
       "    </tr>\n",
       "    <tr>\n",
       "      <th>1</th>\n",
       "      <td>2</td>\n",
       "      <td>2020</td>\n",
       "      <td>Machine Learning Scientist</td>\n",
       "      <td>SE</td>\n",
       "      <td>FT</td>\n",
       "      <td>20,688,070.00</td>\n",
       "      <td>JP</td>\n",
       "      <td>JP</td>\n",
       "      <td>S</td>\n",
       "      <td>0</td>\n",
       "    </tr>\n",
       "    <tr>\n",
       "      <th>2</th>\n",
       "      <td>3</td>\n",
       "      <td>2020</td>\n",
       "      <td>Big Data Engineer</td>\n",
       "      <td>SE</td>\n",
       "      <td>FT</td>\n",
       "      <td>8,674,985.00</td>\n",
       "      <td>GB</td>\n",
       "      <td>GB</td>\n",
       "      <td>M</td>\n",
       "      <td>50</td>\n",
       "    </tr>\n",
       "    <tr>\n",
       "      <th>3</th>\n",
       "      <td>4</td>\n",
       "      <td>2020</td>\n",
       "      <td>Product Data Analyst</td>\n",
       "      <td>MI</td>\n",
       "      <td>FT</td>\n",
       "      <td>1,591,390.00</td>\n",
       "      <td>HN</td>\n",
       "      <td>HN</td>\n",
       "      <td>S</td>\n",
       "      <td>0</td>\n",
       "    </tr>\n",
       "    <tr>\n",
       "      <th>4</th>\n",
       "      <td>5</td>\n",
       "      <td>2020</td>\n",
       "      <td>Machine Learning Engineer</td>\n",
       "      <td>SE</td>\n",
       "      <td>FT</td>\n",
       "      <td>11,935,425.00</td>\n",
       "      <td>US</td>\n",
       "      <td>US</td>\n",
       "      <td>L</td>\n",
       "      <td>50</td>\n",
       "    </tr>\n",
       "    <tr>\n",
       "      <th>5</th>\n",
       "      <td>6</td>\n",
       "      <td>2020</td>\n",
       "      <td>Data Analyst</td>\n",
       "      <td>EN</td>\n",
       "      <td>FT</td>\n",
       "      <td>5,729,004.00</td>\n",
       "      <td>US</td>\n",
       "      <td>US</td>\n",
       "      <td>L</td>\n",
       "      <td>100</td>\n",
       "    </tr>\n",
       "    <tr>\n",
       "      <th>6</th>\n",
       "      <td>7</td>\n",
       "      <td>2020</td>\n",
       "      <td>Lead Data Scientist</td>\n",
       "      <td>SE</td>\n",
       "      <td>FT</td>\n",
       "      <td>15,118,205.00</td>\n",
       "      <td>US</td>\n",
       "      <td>US</td>\n",
       "      <td>S</td>\n",
       "      <td>100</td>\n",
       "    </tr>\n",
       "    <tr>\n",
       "      <th>7</th>\n",
       "      <td>8</td>\n",
       "      <td>2020</td>\n",
       "      <td>Data Scientist</td>\n",
       "      <td>MI</td>\n",
       "      <td>FT</td>\n",
       "      <td>2,843,416.00</td>\n",
       "      <td>HU</td>\n",
       "      <td>HU</td>\n",
       "      <td>L</td>\n",
       "      <td>50</td>\n",
       "    </tr>\n",
       "    <tr>\n",
       "      <th>8</th>\n",
       "      <td>9</td>\n",
       "      <td>2020</td>\n",
       "      <td>Business Data Analyst</td>\n",
       "      <td>MI</td>\n",
       "      <td>FT</td>\n",
       "      <td>10,741,883.00</td>\n",
       "      <td>US</td>\n",
       "      <td>US</td>\n",
       "      <td>L</td>\n",
       "      <td>100</td>\n",
       "    </tr>\n",
       "    <tr>\n",
       "      <th>9</th>\n",
       "      <td>10</td>\n",
       "      <td>2020</td>\n",
       "      <td>Lead Data Engineer</td>\n",
       "      <td>SE</td>\n",
       "      <td>FT</td>\n",
       "      <td>9,946,188.00</td>\n",
       "      <td>NZ</td>\n",
       "      <td>NZ</td>\n",
       "      <td>S</td>\n",
       "      <td>50</td>\n",
       "    </tr>\n",
       "  </tbody>\n",
       "</table>\n",
       "</div>"
      ],
      "text/plain": [
       "   Unnamed: 0  Working_Year                 Designation Experience  \\\n",
       "0           1          2020              Data Scientist         MI   \n",
       "1           2          2020  Machine Learning Scientist         SE   \n",
       "2           3          2020           Big Data Engineer         SE   \n",
       "3           4          2020        Product Data Analyst         MI   \n",
       "4           5          2020   Machine Learning Engineer         SE   \n",
       "5           6          2020                Data Analyst         EN   \n",
       "6           7          2020         Lead Data Scientist         SE   \n",
       "7           8          2020              Data Scientist         MI   \n",
       "8           9          2020       Business Data Analyst         MI   \n",
       "9          10          2020          Lead Data Engineer         SE   \n",
       "\n",
       "  Employment_Status Salary_In_Rupees Employee_Location Company_Location  \\\n",
       "0                FT     6,352,272.00                DE               DE   \n",
       "1                FT    20,688,070.00                JP               JP   \n",
       "2                FT     8,674,985.00                GB               GB   \n",
       "3                FT     1,591,390.00                HN               HN   \n",
       "4                FT    11,935,425.00                US               US   \n",
       "5                FT     5,729,004.00                US               US   \n",
       "6                FT    15,118,205.00                US               US   \n",
       "7                FT     2,843,416.00                HU               HU   \n",
       "8                FT    10,741,883.00                US               US   \n",
       "9                FT     9,946,188.00                NZ               NZ   \n",
       "\n",
       "  Company_Size  Remote_Working_Ratio  \n",
       "0            L                     0  \n",
       "1            S                     0  \n",
       "2            M                    50  \n",
       "3            S                     0  \n",
       "4            L                    50  \n",
       "5            L                   100  \n",
       "6            S                   100  \n",
       "7            L                    50  \n",
       "8            L                   100  \n",
       "9            S                    50  "
      ]
     },
     "execution_count": 3,
     "metadata": {},
     "output_type": "execute_result"
    }
   ],
   "source": [
    "df = pd.read_csv(\"./Data_Science_Fields_Salary_Categorization.csv\")\n",
    "\n",
    "df.head(10)"
   ]
  },
  {
   "cell_type": "markdown",
   "id": "50ad19f8",
   "metadata": {},
   "source": [
    "## Verificar os domínios dos dados e se há valores nulos"
   ]
  },
  {
   "cell_type": "code",
   "execution_count": 4,
   "id": "d4ae5726",
   "metadata": {},
   "outputs": [
    {
     "name": "stdout",
     "output_type": "stream",
     "text": [
      "Unnamed: 0              607\n",
      "Working_Year            607\n",
      "Designation             607\n",
      "Experience              607\n",
      "Employment_Status       607\n",
      "Salary_In_Rupees        607\n",
      "Employee_Location       607\n",
      "Company_Location        607\n",
      "Company_Size            607\n",
      "Remote_Working_Ratio    607\n",
      "dtype: int64\n",
      "--------------------------------\n",
      "Unnamed: 0               int64\n",
      "Working_Year             int64\n",
      "Designation             object\n",
      "Experience              object\n",
      "Employment_Status       object\n",
      "Salary_In_Rupees        object\n",
      "Employee_Location       object\n",
      "Company_Location        object\n",
      "Company_Size            object\n",
      "Remote_Working_Ratio     int64\n",
      "dtype: object\n"
     ]
    }
   ],
   "source": [
    "print(df.isna().count())\n",
    "print('--------------------------------')\n",
    "print(df.dtypes)"
   ]
  },
  {
   "cell_type": "markdown",
   "id": "56b89b22",
   "metadata": {},
   "source": [
    "## Corrigir os domínios dos dados"
   ]
  },
  {
   "cell_type": "code",
   "execution_count": 4,
   "id": "113a28b2",
   "metadata": {},
   "outputs": [
    {
     "data": {
      "text/plain": [
       "Unnamed: 0                int64\n",
       "Working_Year              int64\n",
       "Designation              object\n",
       "Experience               object\n",
       "Employment_Status        object\n",
       "Salary_In_Rupees        float64\n",
       "Employee_Location        object\n",
       "Company_Location         object\n",
       "Company_Size             object\n",
       "Remote_Working_Ratio      int64\n",
       "dtype: object"
      ]
     },
     "execution_count": 4,
     "metadata": {},
     "output_type": "execute_result"
    }
   ],
   "source": [
    "df['Salary_In_Rupees'] = df['Salary_In_Rupees'].str.replace(',', '')\n",
    "df['Salary_In_Rupees'] = df['Salary_In_Rupees'].astype(\"float\")\n",
    "df['Working_Year'] = df['Working_Year'].astype('int')\n",
    "df['Designation'] = df['Designation'].astype('str')\n",
    "df.dtypes\n",
    "\n"
   ]
  },
  {
   "cell_type": "markdown",
   "id": "74fcbe40",
   "metadata": {},
   "source": [
    "## Excluir colunas desnecessárias"
   ]
  },
  {
   "cell_type": "code",
   "execution_count": 5,
   "id": "ed8dbc44",
   "metadata": {},
   "outputs": [
    {
     "data": {
      "text/html": [
       "<div>\n",
       "<style scoped>\n",
       "    .dataframe tbody tr th:only-of-type {\n",
       "        vertical-align: middle;\n",
       "    }\n",
       "\n",
       "    .dataframe tbody tr th {\n",
       "        vertical-align: top;\n",
       "    }\n",
       "\n",
       "    .dataframe thead th {\n",
       "        text-align: right;\n",
       "    }\n",
       "</style>\n",
       "<table border=\"1\" class=\"dataframe\">\n",
       "  <thead>\n",
       "    <tr style=\"text-align: right;\">\n",
       "      <th></th>\n",
       "      <th>Salary_In_Rupees</th>\n",
       "      <th>Experience</th>\n",
       "      <th>Working_Year</th>\n",
       "      <th>Designation</th>\n",
       "    </tr>\n",
       "  </thead>\n",
       "  <tbody>\n",
       "    <tr>\n",
       "      <th>0</th>\n",
       "      <td>6352272.0</td>\n",
       "      <td>MI</td>\n",
       "      <td>2020</td>\n",
       "      <td>Data Scientist</td>\n",
       "    </tr>\n",
       "    <tr>\n",
       "      <th>1</th>\n",
       "      <td>20688070.0</td>\n",
       "      <td>SE</td>\n",
       "      <td>2020</td>\n",
       "      <td>Machine Learning Scientist</td>\n",
       "    </tr>\n",
       "    <tr>\n",
       "      <th>2</th>\n",
       "      <td>8674985.0</td>\n",
       "      <td>SE</td>\n",
       "      <td>2020</td>\n",
       "      <td>Big Data Engineer</td>\n",
       "    </tr>\n",
       "    <tr>\n",
       "      <th>3</th>\n",
       "      <td>1591390.0</td>\n",
       "      <td>MI</td>\n",
       "      <td>2020</td>\n",
       "      <td>Product Data Analyst</td>\n",
       "    </tr>\n",
       "    <tr>\n",
       "      <th>4</th>\n",
       "      <td>11935425.0</td>\n",
       "      <td>SE</td>\n",
       "      <td>2020</td>\n",
       "      <td>Machine Learning Engineer</td>\n",
       "    </tr>\n",
       "    <tr>\n",
       "      <th>...</th>\n",
       "      <td>...</td>\n",
       "      <td>...</td>\n",
       "      <td>...</td>\n",
       "      <td>...</td>\n",
       "    </tr>\n",
       "    <tr>\n",
       "      <th>602</th>\n",
       "      <td>12253703.0</td>\n",
       "      <td>SE</td>\n",
       "      <td>2022</td>\n",
       "      <td>Data Engineer</td>\n",
       "    </tr>\n",
       "    <tr>\n",
       "      <th>603</th>\n",
       "      <td>10025757.0</td>\n",
       "      <td>SE</td>\n",
       "      <td>2022</td>\n",
       "      <td>Data Engineer</td>\n",
       "    </tr>\n",
       "    <tr>\n",
       "      <th>604</th>\n",
       "      <td>10264466.0</td>\n",
       "      <td>SE</td>\n",
       "      <td>2022</td>\n",
       "      <td>Data Analyst</td>\n",
       "    </tr>\n",
       "    <tr>\n",
       "      <th>605</th>\n",
       "      <td>11935425.0</td>\n",
       "      <td>SE</td>\n",
       "      <td>2022</td>\n",
       "      <td>Data Analyst</td>\n",
       "    </tr>\n",
       "    <tr>\n",
       "      <th>606</th>\n",
       "      <td>15913900.0</td>\n",
       "      <td>MI</td>\n",
       "      <td>2022</td>\n",
       "      <td>AI Scientist</td>\n",
       "    </tr>\n",
       "  </tbody>\n",
       "</table>\n",
       "<p>607 rows × 4 columns</p>\n",
       "</div>"
      ],
      "text/plain": [
       "     Salary_In_Rupees Experience  Working_Year                 Designation\n",
       "0           6352272.0         MI          2020              Data Scientist\n",
       "1          20688070.0         SE          2020  Machine Learning Scientist\n",
       "2           8674985.0         SE          2020           Big Data Engineer\n",
       "3           1591390.0         MI          2020        Product Data Analyst\n",
       "4          11935425.0         SE          2020   Machine Learning Engineer\n",
       "..                ...        ...           ...                         ...\n",
       "602        12253703.0         SE          2022               Data Engineer\n",
       "603        10025757.0         SE          2022               Data Engineer\n",
       "604        10264466.0         SE          2022                Data Analyst\n",
       "605        11935425.0         SE          2022                Data Analyst\n",
       "606        15913900.0         MI          2022                AI Scientist\n",
       "\n",
       "[607 rows x 4 columns]"
      ]
     },
     "metadata": {},
     "output_type": "display_data"
    }
   ],
   "source": [
    "#Média salarial + experiência + data + designação \n",
    "df_test = df.loc[:, ['Salary_In_Rupees', 'Experience', 'Working_Year', 'Designation']]\n",
    "\n",
    "#df_test.dtypes\n",
    "display(df_test)"
   ]
  },
  {
   "cell_type": "markdown",
   "id": "ec42abd2",
   "metadata": {},
   "source": [
    "## Verificar os dados estatísticos da base"
   ]
  },
  {
   "cell_type": "code",
   "execution_count": 6,
   "id": "0684036a",
   "metadata": {},
   "outputs": [
    {
     "data": {
      "text/html": [
       "<div>\n",
       "<style scoped>\n",
       "    .dataframe tbody tr th:only-of-type {\n",
       "        vertical-align: middle;\n",
       "    }\n",
       "\n",
       "    .dataframe tbody tr th {\n",
       "        vertical-align: top;\n",
       "    }\n",
       "\n",
       "    .dataframe thead th {\n",
       "        text-align: right;\n",
       "    }\n",
       "</style>\n",
       "<table border=\"1\" class=\"dataframe\">\n",
       "  <thead>\n",
       "    <tr style=\"text-align: right;\">\n",
       "      <th></th>\n",
       "      <th>Salary_In_Rupees</th>\n",
       "      <th>Working_Year</th>\n",
       "    </tr>\n",
       "  </thead>\n",
       "  <tbody>\n",
       "    <tr>\n",
       "      <th>count</th>\n",
       "      <td>6.070000e+02</td>\n",
       "      <td>607.000000</td>\n",
       "    </tr>\n",
       "    <tr>\n",
       "      <th>mean</th>\n",
       "      <td>8.935485e+06</td>\n",
       "      <td>2021.405272</td>\n",
       "    </tr>\n",
       "    <tr>\n",
       "      <th>std</th>\n",
       "      <td>5.646034e+06</td>\n",
       "      <td>0.692133</td>\n",
       "    </tr>\n",
       "    <tr>\n",
       "      <th>min</th>\n",
       "      <td>2.274890e+05</td>\n",
       "      <td>2020.000000</td>\n",
       "    </tr>\n",
       "    <tr>\n",
       "      <th>25%</th>\n",
       "      <td>4.991076e+06</td>\n",
       "      <td>2021.000000</td>\n",
       "    </tr>\n",
       "    <tr>\n",
       "      <th>50%</th>\n",
       "      <td>8.081874e+06</td>\n",
       "      <td>2022.000000</td>\n",
       "    </tr>\n",
       "    <tr>\n",
       "      <th>75%</th>\n",
       "      <td>1.193542e+07</td>\n",
       "      <td>2022.000000</td>\n",
       "    </tr>\n",
       "    <tr>\n",
       "      <th>max</th>\n",
       "      <td>4.774170e+07</td>\n",
       "      <td>2022.000000</td>\n",
       "    </tr>\n",
       "  </tbody>\n",
       "</table>\n",
       "</div>"
      ],
      "text/plain": [
       "       Salary_In_Rupees  Working_Year\n",
       "count      6.070000e+02    607.000000\n",
       "mean       8.935485e+06   2021.405272\n",
       "std        5.646034e+06      0.692133\n",
       "min        2.274890e+05   2020.000000\n",
       "25%        4.991076e+06   2021.000000\n",
       "50%        8.081874e+06   2022.000000\n",
       "75%        1.193542e+07   2022.000000\n",
       "max        4.774170e+07   2022.000000"
      ]
     },
     "execution_count": 6,
     "metadata": {},
     "output_type": "execute_result"
    }
   ],
   "source": [
    "df_test.describe()"
   ]
  },
  {
   "cell_type": "markdown",
   "id": "b5262494",
   "metadata": {},
   "source": [
    "## Plotar a média salarial em um gráfico separando em dois subplots com 1 linha 2 colunas:\n",
    "-  No primeiro apresentar a média salarial por tipo de experiência para o ano de 2020\n",
    "-  No segundo apresentar a média salarial por tipo de experiência para o ano de 2022"
   ]
  },
  {
   "cell_type": "code",
   "execution_count": 36,
   "id": "c1ff645a",
   "metadata": {},
   "outputs": [
    {
     "data": {
      "image/png": "[encoded data removed]",
      "text/plain": [
       "<Figure size 640x480 with 2 Axes>"
      ]
     },
     "metadata": {},
     "output_type": "display_data"
    }
   ],
   "source": [
    "experiencia = df_test['Experience'].unique()\n",
    "\n",
    "calcular_media = lambda data, tipo_experiencia: [df_test[df_test['Working_Year']==data][df_test[df_test['Working_Year']==data]['Experience']==experiencia]['Salary_In_Rupees'].mean() for experiencia in tipo_experiencia]\n",
    "\n",
    "fig, ax = plt.subplots(nrows=1, ncols=2)\n",
    "ax[0].plot(experiencia, calcular_media(2020, experiencia))\n",
    "ax[1].plot(experiencia, calcular_media(2022, experiencia))\n",
    "plt.show()"
   ]
  },
  {
   "cell_type": "markdown",
   "id": "edb5aace",
   "metadata": {},
   "source": [
    "## Melhorando a visualização\n",
    "- Para aumentar o tamanho do gráfico podemos usar o `figsize=(x,y)`\n",
    "- Se quisermos mudar a proporção dos gráficos, podemos usar o `gridspec_kw={'height_ratios': []}`"
   ]
  },
  {
   "cell_type": "code",
   "execution_count": 42,
   "id": "be227248",
   "metadata": {},
   "outputs": [
    {
     "data": {
      "image/png": "[encoded data removed]",
      "text/plain": [
       "<Figure size 500x700 with 2 Axes>"
      ]
     },
     "metadata": {},
     "output_type": "display_data"
    }
   ],
   "source": [
    "fig, ax = plt.subplots(figsize=(5,7), nrows=2, ncols=1, gridspec_kw={'height_ratios':[1,1]})\n",
    "ax[0].plot(experiencia, calcular_media(2020, experiencia))\n",
    "ax[1].plot(experiencia, calcular_media(2022, experiencia))\n",
    "plt.show()"
   ]
  },
  {
   "cell_type": "markdown",
   "id": "9c133d6f",
   "metadata": {},
   "source": [
    "## Plotar a média salarial em um gráfico de barras separando em dois subplots com 2 linhas 1 coluna:\n",
    "- No primeiro apresentar a média salarial pela Designação para o ano de 2022 para os top 5\n",
    "- No segundo apresentar a média salarial pela Designação para o ano de 2022 para as 5 menores médias"
   ]
  },
  {
   "cell_type": "code",
   "execution_count": null,
   "id": "bfa5dbca",
   "metadata": {},
   "outputs": [],
   "source": [
    "def calcular_salario(data, desiginacoes):\n",
    "    return {designacao: data[data['Designation']==designacao]['Salary_In_Rupees'].mean() for designacao in desiginacoes}\n",
    "\n",
    "designacao_top_5 = data_2022.head(5)['Designation'].unique()\n",
    "deignacao_bottom_5 = data_2022.tail(5)['Designation'].unique()"
   ]
  },
  {
   "cell_type": "markdown",
   "id": "46538691",
   "metadata": {},
   "source": [
    "## Colocando rótulo nos dados\n",
    "- Para isso, vamos usar o `annotate`\n",
    "    - https://matplotlib.org/3.5.0/api/_as_gen/matplotlib.pyplot.annotate.html\n",
    "    - Para usar o annotate, vamos passar `.annotate(\"<Texto>\",<posicao(x,y)>)`\n",
    "- Podemos posicionar o annotate exatamente em cima da barra usando a posição y\n",
    "- Usando o `for`, é possível aplicar o annotate para todas as barras\n",
    "- Por fim, vamos usar os parâmetros do annotate para melhorar a visualização\n",
    "    - ha         -> alinhamento horizontal\n",
    "    - xytext     -> deslocamento x,y do texto em relação a um referencial\n",
    "    - textcoords -> referencial que vamos fazer o deslocamento acima\n",
    "    - fontsize   -> tamanho da fonte\n",
    "    - fontweight -> colocando em negrito"
   ]
  },
  {
   "cell_type": "code",
   "execution_count": null,
   "id": "5ba27ed8",
   "metadata": {},
   "outputs": [],
   "source": []
  },
  {
   "cell_type": "markdown",
   "id": "fd8dda1e",
   "metadata": {},
   "source": [
    "## Ajustando o eixo y para melhorar a visualização dos rótulos\n",
    "- O `.set_yticks` vai permitir que alterar o intervalo do eixo y\n",
    "- O `.yaxis.set_visible` permite que os valores do eixo y não fiquem visíveis"
   ]
  },
  {
   "cell_type": "code",
   "execution_count": null,
   "id": "41acc6b6",
   "metadata": {},
   "outputs": [],
   "source": []
  },
  {
   "cell_type": "markdown",
   "id": "5291500b",
   "metadata": {},
   "source": [
    "## Retirando bordas do gráfico\n",
    "- Usando o `.spines[].set_visible(False)` é possível retirar as bordas de um gráfico"
   ]
  },
  {
   "cell_type": "code",
   "execution_count": null,
   "id": "92aad270",
   "metadata": {},
   "outputs": [],
   "source": []
  },
  {
   "cell_type": "markdown",
   "id": "608380ba",
   "metadata": {},
   "source": [
    "## Conclusão\n",
    "Com base nos gráficos apresentados, qual a conclusão que se pode chegar?"
   ]
  },
  {
   "cell_type": "code",
   "execution_count": null,
   "id": "a3224de4",
   "metadata": {},
   "outputs": [],
   "source": []
  }
 ],
 "metadata": {
  "kernelspec": {
   "display_name": "Python 3",
   "language": "python",
   "name": "python3"
  },
  "language_info": {
   "codemirror_mode": {
    "name": "ipython",
    "version": 3
   },
   "file_extension": ".py",
   "mimetype": "text/x-python",
   "name": "python",
   "nbconvert_exporter": "python",
   "pygments_lexer": "ipython3",
   "version": "3.11.2"
  }
 },
 "nbformat": 4,
 "nbformat_minor": 5
}
